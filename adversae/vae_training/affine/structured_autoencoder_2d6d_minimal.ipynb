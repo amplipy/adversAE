{
 "cells": [
  {
   "cell_type": "markdown",
   "id": "4c5db0d7",
   "metadata": {},
   "source": [
    "# Structured Autoencoder: 2D Content + 6D Transform\n",
    "\n",
    "**Minimal Training Notebook**\n",
    "\n",
    "- **2D Content Latent**: Digit identity/shape clustering\n",
    "- **6D Transform Latent**: Spatial transformations  \n",
    "- **Cloud Ready**: CUDA/CPU optimization\n",
    "- **All functions**: Imported from `affine_autoencoder.py`"
   ]
  },
  {
   "cell_type": "code",
   "execution_count": 3,
   "id": "3ffb3daa",
   "metadata": {},
   "outputs": [],
   "source": [
    "import torch\n",
    "import importlib\n",
    "import affine_autoencoder as afae\n",
    "\n",
    "# Reload module to get latest functions\n",
    "importlib.reload(afae)\n",
    "\n",
    "# 🚀 CONFIG\n",
    "CONFIG = {\n",
    "    'content_latent_dim': 2, 'transform_latent_dim': 6, 'total_latent_dim': 8,\n",
    "    'epochs': 50, 'learning_rate': 1e-3, 'batch_size_train': 256, 'batch_size_test': 128,\n",
    "    'alpha': 1.0, 'beta': 0.8, 'gamma': 0.1, 'delta': 0.1,\n",
    "    'force_cuda': True, 'mixed_precision': True, 'gradient_clip': 1.0,\n",
    "    'pin_memory': True, 'num_workers': 4, 'weight_decay': 1e-5,\n",
    "    'lr_scheduler': True, 'early_stopping': True, 'patience': 10,\n",
    "    'data_dir': '../data', 'save_dir': './', 'checkpoint_freq': 10\n",
    "}"
   ]
  },
  {
   "cell_type": "code",
   "execution_count": 5,
   "id": "6b841f7b",
   "metadata": {},
   "outputs": [
    {
     "ename": "AttributeError",
     "evalue": "module 'affine_autoencoder' has no attribute 'get_cloud_device'",
     "output_type": "error",
     "traceback": [
      "\u001b[0;31m---------------------------------------------------------------------------\u001b[0m",
      "\u001b[0;31mAttributeError\u001b[0m                            Traceback (most recent call last)",
      "Cell \u001b[0;32mIn[5], line 2\u001b[0m\n\u001b[1;32m      1\u001b[0m \u001b[38;5;66;03m# 🌩️ SETUP\u001b[39;00m\n\u001b[0;32m----> 2\u001b[0m device \u001b[38;5;241m=\u001b[39m afae\u001b[38;5;241m.\u001b[39mget_cloud_device(CONFIG)\n\u001b[1;32m      3\u001b[0m scaler \u001b[38;5;241m=\u001b[39m torch\u001b[38;5;241m.\u001b[39mcuda\u001b[38;5;241m.\u001b[39mamp\u001b[38;5;241m.\u001b[39mGradScaler() \u001b[38;5;28;01mif\u001b[39;00m CONFIG[\u001b[38;5;124m'\u001b[39m\u001b[38;5;124mmixed_precision\u001b[39m\u001b[38;5;124m'\u001b[39m] \u001b[38;5;129;01mand\u001b[39;00m device\u001b[38;5;241m.\u001b[39mtype \u001b[38;5;241m==\u001b[39m \u001b[38;5;124m'\u001b[39m\u001b[38;5;124mcuda\u001b[39m\u001b[38;5;124m'\u001b[39m \u001b[38;5;28;01melse\u001b[39;00m \u001b[38;5;28;01mNone\u001b[39;00m\n\u001b[1;32m      4\u001b[0m train_loader, test_loader \u001b[38;5;241m=\u001b[39m afae\u001b[38;5;241m.\u001b[39mget_cloud_mnist_loaders(\u001b[38;5;241m*\u001b[39m\u001b[38;5;241m*\u001b[39m{k: v \u001b[38;5;28;01mfor\u001b[39;00m k, v \u001b[38;5;129;01min\u001b[39;00m CONFIG\u001b[38;5;241m.\u001b[39mitems() \u001b[38;5;28;01mif\u001b[39;00m k \u001b[38;5;129;01min\u001b[39;00m [\u001b[38;5;124m'\u001b[39m\u001b[38;5;124mbatch_size_train\u001b[39m\u001b[38;5;124m'\u001b[39m, \u001b[38;5;124m'\u001b[39m\u001b[38;5;124mbatch_size_test\u001b[39m\u001b[38;5;124m'\u001b[39m, \u001b[38;5;124m'\u001b[39m\u001b[38;5;124mdata_dir\u001b[39m\u001b[38;5;124m'\u001b[39m, \u001b[38;5;124m'\u001b[39m\u001b[38;5;124mpin_memory\u001b[39m\u001b[38;5;124m'\u001b[39m, \u001b[38;5;124m'\u001b[39m\u001b[38;5;124mnum_workers\u001b[39m\u001b[38;5;124m'\u001b[39m]})\n",
      "\u001b[0;31mAttributeError\u001b[0m: module 'affine_autoencoder' has no attribute 'get_cloud_device'"
     ]
    }
   ],
   "source": [
    "# 🌩️ SETUP\n",
    "device = afae.get_cloud_device(CONFIG)\n",
    "scaler = torch.cuda.amp.GradScaler() if CONFIG['mixed_precision'] and device.type == 'cuda' else None\n",
    "train_loader, test_loader = afae.get_cloud_mnist_loaders(**{k: v for k, v in CONFIG.items() if k in ['batch_size_train', 'batch_size_test', 'data_dir', 'pin_memory', 'num_workers']})"
   ]
  },
  {
   "cell_type": "code",
   "execution_count": null,
   "id": "12b764fa",
   "metadata": {},
   "outputs": [],
   "source": [
    "# 🏗️ MODEL\n",
    "model = afae.StructuredAffineInvariantAutoEncoder(\n",
    "    content_dim=CONFIG['content_latent_dim'],\n",
    "    transform_dim=CONFIG['transform_latent_dim']\n",
    ").to(device)"
   ]
  },
  {
   "cell_type": "code",
   "execution_count": null,
   "id": "33de9d71",
   "metadata": {},
   "outputs": [],
   "source": [
    "# 🚀 TRAIN\n",
    "losses_dict = afae.train_structured_autoencoder_cloud(model, train_loader, test_loader, device, CONFIG, scaler)"
   ]
  },
  {
   "cell_type": "code",
   "execution_count": null,
   "id": "b734f39e",
   "metadata": {},
   "outputs": [],
   "source": [
    "# 📈 VISUALIZE\n",
    "afae.plot_structured_training_progress(losses_dict)\n",
    "content_data, transform_data, label_data = afae.visualize_structured_latent_space(model, test_loader, device)"
   ]
  },
  {
   "cell_type": "code",
   "execution_count": null,
   "id": "751f8824",
   "metadata": {},
   "outputs": [],
   "source": [
    "# 💾 SAVE\n",
    "model_file, metadata_file = afae.save_structured_model_cloud(model, CONFIG, losses_dict, content_data, transform_data, device)"
   ]
  }
 ],
 "metadata": {
  "kernelspec": {
   "display_name": "base",
   "language": "python",
   "name": "python3"
  },
  "language_info": {
   "codemirror_mode": {
    "name": "ipython",
    "version": 3
   },
   "file_extension": ".py",
   "mimetype": "text/x-python",
   "name": "python",
   "nbconvert_exporter": "python",
   "pygments_lexer": "ipython3",
   "version": "3.12.2"
  }
 },
 "nbformat": 4,
 "nbformat_minor": 5
}
