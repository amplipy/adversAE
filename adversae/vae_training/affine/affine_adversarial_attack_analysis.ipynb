{
 "cells": [
  {
   "cell_type": "markdown",
   "id": "919f5372",
   "metadata": {},
   "source": [
    "# 🎯 Affine Autoencoder Adversarial Attack Analysis\n",
    "\n",
    "**Minimal interface for comprehensive adversarial attack analysis on Structured 2D+6D Affine Autoencoder**\n",
    "\n",
    "## **Attack Methods:**\n",
    "- **FGSM** (Fast Gradient Sign Method) - Single-step gradient attack\n",
    "- **PGD** (Projected Gradient Descent) - Iterative gradient attack  \n",
    "- **Latent Space** - Direct manipulation of content vs transform latents\n",
    "\n",
    "## **Key Features:**\n",
    "- **Content vs Transform** vulnerability analysis\n",
    "- **7-row visualization** (original → clean → final → attack → analysis)\n",
    "- **Attack effectiveness** metrics across multiple epsilon values\n",
    "- **Method comparison** plots and statistics"
   ]
  },
  {
   "cell_type": "code",
   "execution_count": null,
   "id": "84108d35",
   "metadata": {},
   "outputs": [],
   "source": [
    "# 📦 IMPORTS & SETUP\n",
    "import torch\n",
    "import matplotlib.pyplot as plt\n",
    "import numpy as np\n",
    "import random\n",
    "\n",
    "# Affine autoencoder modules\n",
    "import affine_autoencoder_shared as shared\n",
    "import structured_2d6d_autoencoder as s2d6d\n",
    "from affine_adversarial_attacks import *\n",
    "\n",
    "print(\"✅ All imports successful!\")\n",
    "print(f\"PyTorch: {torch.__version__}, CUDA: {torch.cuda.is_available()}\")"
   ]
  },
  {
   "cell_type": "code",
   "execution_count": null,
   "id": "c00db0dd",
   "metadata": {},
   "outputs": [],
   "source": [
    "# ⚙️ CONFIGURATION\n",
    "CONFIG = {\n",
    "    # Model parameters\n",
    "    'content_latent_dim': 2,\n",
    "    'transform_latent_dim': 6, \n",
    "    'total_latent_dim': 8,\n",
    "    \n",
    "    # Data parameters\n",
    "    'batch_size_test': 64,\n",
    "    'data_dir': '../data',\n",
    "    \n",
    "    # Attack parameters\n",
    "    'n_attack_samples': 8,\n",
    "    'attack_epsilons': [0.05, 0.1, 0.15, 0.2],\n",
    "    \n",
    "    # Model parameters\n",
    "    'alpha': 1.0,\n",
    "    'beta': 0.008,\n",
    "    'mixed_precision': False,\n",
    "    'device_preference': 'cuda'\n",
    "}\n",
    "\n",
    "print(\"🎯 AFFINE AUTOENCODER ATTACK CONFIGURATION:\")\n",
    "print(f\"  Model: {CONFIG['total_latent_dim']}D unified VAE\")\n",
    "print(f\"  Attack samples: {CONFIG['n_attack_samples']}\")\n",
    "print(f\"  Attack epsilons: {CONFIG['attack_epsilons']}\")\n",
    "print(f\"  Beta (KL weight): {CONFIG['beta']}\")"
   ]
  },
  {
   "cell_type": "code",
   "execution_count": null,
   "id": "6529eda4",
   "metadata": {},
   "outputs": [],
   "source": [
    "# \udf29️ SETUP DEVICE & DATA\n",
    "device = shared.get_cloud_device(CONFIG)\n",
    "train_loader, test_loader = shared.get_cloud_mnist_loaders(\n",
    "    batch_size_test=CONFIG['batch_size_test'],\n",
    "    data_dir=CONFIG['data_dir']\n",
    ")\n",
    "\n",
    "print(f\"Device: {device}\")\n",
    "print(f\"Test loader: {len(test_loader)} batches of {test_loader.batch_size}\")"
   ]
  },
  {
   "cell_type": "code",
   "execution_count": null,
   "id": "e46dad95",
   "metadata": {},
   "outputs": [],
   "source": [
    "# 🏗️ LOAD TRAINED MODEL\n",
    "print(\"Available models:\")\n",
    "shared.list_saved_models()\n",
    "\n",
    "# Load your trained affine autoencoder\n",
    "model_file = \"structured_2d6d_simplified_20250721_014252.pth\"  # Update this!\n",
    "model, loaded_config, device = shared.load_model_cloud(model_file)\n",
    "\n",
    "print(f\"\\n✅ Loaded model: {model_file}\")\n",
    "print(f\"Model architecture: Content({CONFIG['content_latent_dim']}) + Transform({CONFIG['transform_latent_dim']}) = {CONFIG['total_latent_dim']}D\")"
   ]
  },
  {
   "cell_type": "code",
   "execution_count": null,
   "id": "f472fd4f",
   "metadata": {},
   "outputs": [],
   "source": [
    "# \ude80 COMPREHENSIVE ATTACK ANALYSIS\n",
    "print(\"🎯 Starting Comprehensive Affine Autoencoder Attack Analysis...\")\n",
    "print(\"Testing how attacks affect:\")\n",
    "print(\"  - Content latent space (digit identity)\")  \n",
    "print(\"  - Transform latent space (affine parameters)\")\n",
    "print(\"  - Clean reconstructions (decoder output)\")\n",
    "print(\"  - Final reconstructions (after affine transform)\")\n",
    "print()\n",
    "\n",
    "# Run all attacks with analysis\n",
    "attack_results = run_comprehensive_affine_attacks(model, test_loader, device, CONFIG)\n",
    "\n",
    "print(\"\\n🏁 Attack analysis completed!\")"
   ]
  },
  {
   "cell_type": "code",
   "execution_count": null,
   "id": "a0b96275",
   "metadata": {},
   "outputs": [],
   "source": [
    "# \udcc8 COMPARE ATTACK METHODS\n",
    "print(\"📊 Comparing attack methods effectiveness...\")\n",
    "\n",
    "# Generate comparison plots\n",
    "compare_attack_methods(attack_results)\n",
    "\n",
    "print(\"✅ Attack comparison completed!\")"
   ]
  },
  {
   "cell_type": "markdown",
   "id": "021dd95b",
   "metadata": {},
   "source": [
    "# 🔍 SINGLE ATTACK DEMO (Optional)\n",
    "epsilon = 0.1\n",
    "print(f\"🎯 Single Attack Demo: FGSM with ε={epsilon}\")\n",
    "\n",
    "# Get random test samples\n",
    "test_iter = iter(test_loader)\n",
    "test_images, test_labels = next(test_iter)\n",
    "random_indices = random.sample(range(test_images.size(0)), 8)\n",
    "samples = test_images[random_indices].to(device)\n",
    "labels = test_labels[random_indices]\n",
    "\n",
    "# Run FGSM attack\n",
    "attacker = AffineAdversarialAttacks(model, device)\n",
    "fgsm_attack_imgs = attacker.fgsm_attack(samples, labels, epsilon)\n",
    "\n",
    "# Visualize and analyze\n",
    "visualize_affine_attack_analysis(samples, fgsm_attack_imgs, model, device, \n",
    "                               \"FGSM Demo\", epsilon, labels)\n",
    "\n",
    "demo_results = analyze_attack_effectiveness(samples, fgsm_attack_imgs, model, device, \n",
    "                                          \"FGSM Demo\", epsilon)\n",
    "\n",
    "print(\"✅ Single attack demonstration completed!\")"
   ]
  },
  {
   "cell_type": "code",
   "execution_count": null,
   "id": "e0201e11",
   "metadata": {},
   "outputs": [],
   "source": []
  },
  {
   "cell_type": "code",
   "execution_count": null,
   "id": "477ce7d9",
   "metadata": {},
   "outputs": [],
   "source": []
  },
  {
   "cell_type": "code",
   "execution_count": null,
   "id": "dd445107",
   "metadata": {},
   "outputs": [],
   "source": []
  },
  {
   "cell_type": "code",
   "execution_count": null,
   "id": "45d3e39e",
   "metadata": {},
   "outputs": [],
   "source": []
  },
  {
   "cell_type": "code",
   "execution_count": null,
   "id": "93d9eed8",
   "metadata": {},
   "outputs": [],
   "source": []
  },
  {
   "cell_type": "code",
   "execution_count": null,
   "id": "e4b21470",
   "metadata": {},
   "outputs": [],
   "source": []
  },
  {
   "cell_type": "code",
   "execution_count": null,
   "id": "614684a4",
   "metadata": {},
   "outputs": [],
   "source": []
  },
  {
   "cell_type": "code",
   "execution_count": null,
   "id": "b53711b7",
   "metadata": {},
   "outputs": [],
   "source": []
  },
  {
   "cell_type": "code",
   "execution_count": null,
   "id": "87329116",
   "metadata": {},
   "outputs": [],
   "source": []
  },
  {
   "cell_type": "code",
   "execution_count": null,
   "id": "f6c1ea3c",
   "metadata": {},
   "outputs": [],
   "source": []
  },
  {
   "cell_type": "code",
   "execution_count": null,
   "id": "bd890e4c",
   "metadata": {},
   "outputs": [],
   "source": []
  },
  {
   "cell_type": "code",
   "execution_count": null,
   "id": "112d93af",
   "metadata": {},
   "outputs": [],
   "source": []
  },
  {
   "cell_type": "code",
   "execution_count": null,
   "id": "6ef637c7",
   "metadata": {},
   "outputs": [],
   "source": []
  },
  {
   "cell_type": "code",
   "execution_count": null,
   "id": "c04c73b6",
   "metadata": {},
   "outputs": [],
   "source": []
  },
  {
   "cell_type": "code",
   "execution_count": null,
   "id": "e2362cef",
   "metadata": {},
   "outputs": [],
   "source": []
  },
  {
   "cell_type": "code",
   "execution_count": null,
   "id": "82b6abe3",
   "metadata": {},
   "outputs": [],
   "source": []
  },
  {
   "cell_type": "code",
   "execution_count": null,
   "id": "b5b7e85b",
   "metadata": {},
   "outputs": [],
   "source": []
  },
  {
   "cell_type": "code",
   "execution_count": null,
   "id": "44a16290",
   "metadata": {},
   "outputs": [],
   "source": []
  },
  {
   "cell_type": "code",
   "execution_count": null,
   "id": "58bb04c7",
   "metadata": {},
   "outputs": [],
   "source": []
  },
  {
   "cell_type": "code",
   "execution_count": null,
   "id": "46df25c6",
   "metadata": {},
   "outputs": [],
   "source": []
  },
  {
   "cell_type": "code",
   "execution_count": null,
   "id": "668b16cc",
   "metadata": {},
   "outputs": [],
   "source": []
  },
  {
   "cell_type": "code",
   "execution_count": null,
   "id": "5f31c63e",
   "metadata": {},
   "outputs": [],
   "source": []
  },
  {
   "cell_type": "code",
   "execution_count": null,
   "id": "d2156b24",
   "metadata": {},
   "outputs": [],
   "source": []
  },
  {
   "cell_type": "code",
   "execution_count": null,
   "id": "a8f012ba",
   "metadata": {},
   "outputs": [],
   "source": []
  },
  {
   "cell_type": "code",
   "execution_count": null,
   "id": "fc5ee39f",
   "metadata": {},
   "outputs": [],
   "source": []
  },
  {
   "cell_type": "code",
   "execution_count": null,
   "id": "ed013970",
   "metadata": {},
   "outputs": [],
   "source": []
  },
  {
   "cell_type": "code",
   "execution_count": null,
   "id": "5b4d2b12",
   "metadata": {},
   "outputs": [],
   "source": []
  },
  {
   "cell_type": "code",
   "execution_count": null,
   "id": "8a158dea",
   "metadata": {},
   "outputs": [],
   "source": []
  },
  {
   "cell_type": "code",
   "execution_count": null,
   "id": "e4cce225",
   "metadata": {},
   "outputs": [],
   "source": []
  },
  {
   "cell_type": "markdown",
   "id": "f97c001d",
   "metadata": {},
   "source": [
    "## 🎯 Understanding the Results\n",
    "\n",
    "### **Visualization Rows:**\n",
    "1. **Original Images** - Input MNIST digits\n",
    "2. **Original Clean Recon** - Decoder output (before affine)\n",
    "3. **Original Final Recon** - After affine transformation\n",
    "4. **Attack Images** - Perturbed inputs  \n",
    "5. **Attack Clean Recon** - How attacks affect digit decoding\n",
    "6. **Attack Final Recon** - How attacks affect final output\n",
    "7. **Latent Comparison** - Content vs Transform latent changes\n",
    "\n",
    "### **Key Metrics:**\n",
    "- **Content Shift**: Attack effect on digit identity (2D latent)\n",
    "- **Transform Shift**: Attack effect on affine parameters (6D latent)  \n",
    "- **Content/Transform Ratio**: Which space is more vulnerable\n",
    "- **Clean vs Final Diff**: Decoder vs affine vulnerability\n",
    "\n",
    "### **Attack Insights:**\n",
    "- **High Content/Transform Ratio** → Affects digit identity more\n",
    "- **Low Content/Transform Ratio** → Affects spatial transform more\n",
    "- **Latent Space Attack** → Direct latent manipulation\n",
    "- **FGSM vs PGD** → Single-step vs iterative attacks\n",
    "\n",
    "### **Expected Behavior:**\n",
    "- **Content latents** should be more robust (digit identity preservation)\n",
    "- **Transform latents** may be more vulnerable (spatial parameters)\n",
    "- **Constrained affine** should limit extreme transformations\n",
    "- **Unified 8D VAE** should show balanced regularization effects"
   ]
  }
 ],
 "metadata": {
  "language_info": {
   "name": "python"
  }
 },
 "nbformat": 4,
 "nbformat_minor": 5
}
