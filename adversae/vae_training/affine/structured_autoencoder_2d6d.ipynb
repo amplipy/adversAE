{
 "cells": [
  {
   "cell_type": "markdown",
   "id": "4c5db0d7",
   "metadata": {},
   "source": [
    "# Structured Autoencoder: 2D Content + 6D Transform\n",
    "\n",
    "**Minimal Training Notebook - Updated for Modular Structure**\n",
    "\n",
    "- **2D Content Latent**: Digit identity/shape clustering\n",
    "- **6D Transform Latent**: Spatial transformations  \n",
    "- **Cloud Ready**: CUDA/CPU optimization\n",
    "- **Simplified Loss**: Uses new affine+KL loss function\n",
    "- **Explicit Imports**: Clear module references (structured_2d6d_autoencoder, affine_autoencoder_shared)"
   ]
  },
  {
   "cell_type": "code",
   "execution_count": 1,
   "id": "3ffb3daa",
   "metadata": {},
   "outputs": [],
   "source": [
    "import torch\n",
    "# Explicit imports from modular structure\n",
    "import structured_2d6d_autoencoder as s2d6d\n",
    "import affine_autoencoder_shared as shared\n",
    "\n",
    "# 🚀 CONFIG - Updated for simplified loss\n",
    "CONFIG = {\n",
    "    'content_latent_dim': 2, 'transform_latent_dim': 6, 'total_latent_dim': 8,\n",
    "    'epochs': 50, 'learning_rate': 1e-3, 'batch_size_train': 256, 'batch_size_test': 128,\n",
    "    'alpha': 1.0,  # Affine loss weight\n",
    "    'beta': 0.001,  # KL divergence weight (reduced for 2D content latent)\n",
    "    'force_cuda': True, 'mixed_precision': True, 'gradient_clip': 1.0,\n",
    "    'pin_memory': True, 'num_workers': 4, 'weight_decay': 1e-5,\n",
    "    'lr_scheduler': True, 'early_stopping': True, 'patience': 10,\n",
    "    'data_dir': '../data', 'save_dir': './', 'checkpoint_freq': 10\n",
    "}"
   ]
  },
  {
   "cell_type": "code",
   "execution_count": 3,
   "id": "6b841f7b",
   "metadata": {},
   "outputs": [
    {
     "name": "stdout",
     "output_type": "stream",
     "text": [
      "🍎 Apple MPS device\n",
      "📊 Train batches: 235, Test batches: 79\n"
     ]
    }
   ],
   "source": [
    "# 🌩️ SETUP - Using shared utilities with explicit module reference\n",
    "device = shared.get_cloud_device(CONFIG)\n",
    "scaler = torch.cuda.amp.GradScaler() if CONFIG['mixed_precision'] and device.type == 'cuda' else None\n",
    "train_loader, test_loader = shared.get_cloud_mnist_loaders(**{k: v for k, v in CONFIG.items() if k in ['batch_size_train', 'batch_size_test', 'data_dir', 'pin_memory', 'num_workers']})"
   ]
  },
  {
   "cell_type": "code",
   "execution_count": 4,
   "id": "12b764fa",
   "metadata": {},
   "outputs": [],
   "source": [
    "# 🏗️ MODEL - Using structured_2d6d_autoencoder module explicitly\n",
    "model = s2d6d.StructuredAffineInvariantAutoEncoder(\n",
    "    content_dim=CONFIG['content_latent_dim'],\n",
    "    transform_dim=CONFIG['transform_latent_dim']\n",
    ").to(device)"
   ]
  },
  {
   "cell_type": "code",
   "execution_count": 5,
   "id": "712fae93",
   "metadata": {},
   "outputs": [],
   "source": [
    "# 📂 OPTIONAL: LOAD EXISTING MODEL (comment out to train new)\n",
    "# shared.list_saved_models()  # List available models (from affine_autoencoder_shared)\n",
    "# model, CONFIG, device = shared.load_model_cloud(\"structured_model_YYYYMMDD_HHMMSS.pth\")\n",
    "# Note: Use shared.* functions from affine_autoencoder_shared module"
   ]
  },
  {
   "cell_type": "code",
   "execution_count": null,
   "id": "33de9d71",
   "metadata": {},
   "outputs": [],
   "source": [
    "# 🚀 TRAIN - Using simplified affine+KL loss from structured_2d6d_autoencoder\n",
    "losses_dict = s2d6d.train_structured_autoencoder_simplified(model, train_loader, test_loader, device, CONFIG)"
   ]
  },
  {
   "cell_type": "code",
   "execution_count": null,
   "id": "8d067a89",
   "metadata": {},
   "outputs": [],
   "source": [
    "# 🔄 RELOAD MODULES (run this if you get unpacking errors)\n",
    "import importlib\n",
    "importlib.reload(s2d6d)\n",
    "importlib.reload(shared)\n",
    "# Re-import with explicit module names\n",
    "import structured_2d6d_autoencoder as s2d6d\n",
    "import affine_autoencoder_shared as shared"
   ]
  },
  {
   "cell_type": "code",
   "execution_count": null,
   "id": "b734f39e",
   "metadata": {},
   "outputs": [],
   "source": [
    "# 📈 VISUALIZE - Using explicit module references\n",
    "s2d6d.plot_simplified_training_progress_structured(losses_dict)\n",
    "content_data, transform_data, label_data = s2d6d.visualize_structured_latent_space(model, test_loader, device)"
   ]
  },
  {
   "cell_type": "code",
   "execution_count": null,
   "id": "4ea609de",
   "metadata": {},
   "outputs": [],
   "source": [
    "# 🎨 COMPREHENSIVE VISUALIZATIONS - Using structured_2d6d_autoencoder module\n",
    "s2d6d.comprehensive_visualization_structured(model, test_loader, device)"
   ]
  },
  {
   "cell_type": "code",
   "execution_count": null,
   "id": "751f8824",
   "metadata": {},
   "outputs": [],
   "source": [
    "# 💾 SAVE - Using shared save functionality from affine_autoencoder_shared\n",
    "model_file, metadata_file = shared.save_model_cloud(model, CONFIG, losses_dict, device, \n",
    "                                                    extra_data={'content_data': content_data, \n",
    "                                                               'transform_data': transform_data})"
   ]
  }
 ],
 "metadata": {
  "kernelspec": {
   "display_name": "base",
   "language": "python",
   "name": "python3"
  },
  "language_info": {
   "codemirror_mode": {
    "name": "ipython",
    "version": 3
   },
   "file_extension": ".py",
   "mimetype": "text/x-python",
   "name": "python",
   "nbconvert_exporter": "python",
   "pygments_lexer": "ipython3",
   "version": "3.12.2"
  }
 },
 "nbformat": 4,
 "nbformat_minor": 5
}
