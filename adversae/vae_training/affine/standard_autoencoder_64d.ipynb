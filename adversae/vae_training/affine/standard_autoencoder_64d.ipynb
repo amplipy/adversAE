{
 "cells": [
  {
   "cell_type": "markdown",
   "id": "c0107a2d",
   "metadata": {},
   "source": [
    "# Standard Autoencoder: 64D Latent Space\n",
    "\n",
    "**Minimal Training Notebook**\n",
    "\n",
    "- **64D Latent**: Standard latent representation\n",
    "- **Affine Invariant**: Spatial transformation robustness\n",
    "- **Cloud Ready**: CUDA/CPU optimization\n",
    "- **All functions**: Imported from `affine_autoencoder.py`"
   ]
  },
  {
   "cell_type": "code",
   "execution_count": 1,
   "id": "475d4450",
   "metadata": {},
   "outputs": [],
   "source": [
    "import torch\n",
    "import affine_autoencoder as afae\n",
    "\n",
    "# 🚀 CONFIG\n",
    "CONFIG = {\n",
    "    'latent_dim': 64, 'epochs': 50, 'learning_rate': 1e-3,\n",
    "    'batch_size_train': 256, 'batch_size_test': 128,\n",
    "    'alpha': 1.0, 'beta': 0.5, 'gamma': 0.1,\n",
    "    'force_cuda': True, 'mixed_precision': True, 'gradient_clip': 1.0,\n",
    "    'pin_memory': True, 'num_workers': 4, 'weight_decay': 1e-5,\n",
    "    'lr_scheduler': True, 'early_stopping': True, 'patience': 10,\n",
    "    'data_dir': '../data', 'save_dir': './', 'checkpoint_freq': 10\n",
    "}"
   ]
  },
  {
   "cell_type": "code",
   "execution_count": 2,
   "id": "42414bea",
   "metadata": {},
   "outputs": [
    {
     "name": "stdout",
     "output_type": "stream",
     "text": [
      "🍎 Apple MPS device\n",
      "📊 Train batches: 235, Test batches: 79\n"
     ]
    }
   ],
   "source": [
    "# 🌩️ SETUP\n",
    "device = afae.get_cloud_device(CONFIG)\n",
    "scaler = torch.cuda.amp.GradScaler() if CONFIG['mixed_precision'] and device.type == 'cuda' else None\n",
    "train_loader, test_loader = afae.get_cloud_mnist_loaders(**{k: v for k, v in CONFIG.items() if k in ['batch_size_train', 'batch_size_test', 'data_dir', 'pin_memory', 'num_workers']})"
   ]
  },
  {
   "cell_type": "code",
   "execution_count": 3,
   "id": "8dfe20ad",
   "metadata": {},
   "outputs": [],
   "source": [
    "# 🏗️ MODEL\n",
    "model = afae.AffineInvariantAutoEncoder(latent_dim=CONFIG['latent_dim']).to(device)"
   ]
  },
  {
   "cell_type": "code",
   "execution_count": 5,
   "id": "a50509b2",
   "metadata": {},
   "outputs": [
    {
     "name": "stderr",
     "output_type": "stream",
     "text": [
      "Epoch 1:   0%|          | 0/235 [00:03<?, ?it/s]\n",
      "\n"
     ]
    },
    {
     "ename": "ValueError",
     "evalue": "too many values to unpack (expected 3)",
     "output_type": "error",
     "traceback": [
      "\u001b[0;31m---------------------------------------------------------------------------\u001b[0m",
      "\u001b[0;31mValueError\u001b[0m                                Traceback (most recent call last)",
      "Cell \u001b[0;32mIn[5], line 2\u001b[0m\n\u001b[1;32m      1\u001b[0m \u001b[38;5;66;03m# 🚀 TRAIN\u001b[39;00m\n\u001b[0;32m----> 2\u001b[0m losses_dict \u001b[38;5;241m=\u001b[39m afae\u001b[38;5;241m.\u001b[39mtrain_autoencoder_cloud(model, train_loader, test_loader, device, CONFIG, scaler)\n",
      "File \u001b[0;32m~/Library/CloudStorage/Box-Box/Code/adversAE/adversae/vae_training/affine/affine_autoencoder.py:1149\u001b[0m, in \u001b[0;36mtrain_autoencoder_cloud\u001b[0;34m(model, train_loader, test_loader, device, config, scaler)\u001b[0m\n\u001b[1;32m   1146\u001b[0m data \u001b[38;5;241m=\u001b[39m data\u001b[38;5;241m.\u001b[39mto(device)\n\u001b[1;32m   1148\u001b[0m \u001b[38;5;28;01mwith\u001b[39;00m torch\u001b[38;5;241m.\u001b[39mcuda\u001b[38;5;241m.\u001b[39mamp\u001b[38;5;241m.\u001b[39mautocast() \u001b[38;5;28;01mif\u001b[39;00m scaler \u001b[38;5;28;01melse\u001b[39;00m torch\u001b[38;5;241m.\u001b[39menable_grad():\n\u001b[0;32m-> 1149\u001b[0m     reconstructed, latent, affine_params \u001b[38;5;241m=\u001b[39m model(data)\n\u001b[1;32m   1151\u001b[0m     recon_loss \u001b[38;5;241m=\u001b[39m F\u001b[38;5;241m.\u001b[39mmse_loss(reconstructed, data)\n\u001b[1;32m   1152\u001b[0m     identity_params \u001b[38;5;241m=\u001b[39m torch\u001b[38;5;241m.\u001b[39mtensor([\u001b[38;5;241m1.0\u001b[39m, \u001b[38;5;241m0.0\u001b[39m, \u001b[38;5;241m0.0\u001b[39m, \u001b[38;5;241m0.0\u001b[39m, \u001b[38;5;241m1.0\u001b[39m, \u001b[38;5;241m0.0\u001b[39m], \n\u001b[1;32m   1153\u001b[0m                                  device\u001b[38;5;241m=\u001b[39mdevice)\u001b[38;5;241m.\u001b[39mexpand_as(affine_params)\n",
      "\u001b[0;31mValueError\u001b[0m: too many values to unpack (expected 3)"
     ]
    }
   ],
   "source": [
    "# 🚀 TRAIN\n",
    "losses_dict = afae.train_autoencoder_cloud(model, train_loader, test_loader, device, CONFIG, scaler)"
   ]
  },
  {
   "cell_type": "code",
   "execution_count": null,
   "id": "2d130b5b",
   "metadata": {},
   "outputs": [],
   "source": [
    "# 📈 VISUALIZE\n",
    "afae.plot_training_progress(losses_dict)\n",
    "afae.visualize_latent_space(model, test_loader, device, CONFIG['latent_dim'])"
   ]
  },
  {
   "cell_type": "code",
   "execution_count": null,
   "id": "80e9b78d",
   "metadata": {},
   "outputs": [],
   "source": [
    "# 💾 SAVE\n",
    "model_file, metadata_file = afae.save_model_cloud(model, CONFIG, losses_dict, device)"
   ]
  }
 ],
 "metadata": {
  "kernelspec": {
   "display_name": "base",
   "language": "python",
   "name": "python3"
  },
  "language_info": {
   "codemirror_mode": {
    "name": "ipython",
    "version": 3
   },
   "file_extension": ".py",
   "mimetype": "text/x-python",
   "name": "python",
   "nbconvert_exporter": "python",
   "pygments_lexer": "ipython3",
   "version": "3.12.2"
  }
 },
 "nbformat": 4,
 "nbformat_minor": 5
}
